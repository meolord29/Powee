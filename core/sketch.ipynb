{
 "cells": [
  {
   "cell_type": "code",
   "execution_count": 1,
   "id": "0980dd31",
   "metadata": {},
   "outputs": [],
   "source": [
    "import pandas as pd\n",
    "import csv\n",
    "import os"
   ]
  },
  {
   "cell_type": "code",
   "execution_count": 2,
   "id": "bb07800e",
   "metadata": {},
   "outputs": [],
   "source": [
    "datetime_format = \"%d/%m/%Y %H:%M\"\n",
    "\n",
    "def csv_extract(filepath):\n",
    "    with open(filepath, 'r') as file:\n",
    "        reader = csv.reader(file)\n",
    "\n",
    "        for i, row in enumerate(list(reader)):\n",
    "            if row == []:\n",
    "                cutOff = i - 1\n",
    "                break\n",
    "    \n",
    "    with open(filepath, 'r') as file:\n",
    "        csv_list = list(csv.DictReader(file))[:cutOff]\n",
    "\n",
    "        df = pd.DataFrame(csv_list)\n",
    "        df = df.rename(columns={\n",
    "            \"\\ufeffAccount Number 編賬號碼\": \"AccID\", \n",
    "            \"Total Consumption (Unit) 總用電量 (度數)\": \"UnitConsumption\", \n",
    "            \"Start date/time 開始日期/時間\": \"StartTime\", \n",
    "            \"End date/time 結束日期/時間\": \"EndTime\"\n",
    "            })\n",
    "\n",
    "        return df\n",
    "\n",
    "def csv_parse_time(df) -> pd.DataFrame:\n",
    "    df[\"StartTime\"] = pd.to_datetime(df[\"StartTime\"], format=datetime_format)\n",
    "    df[\"EndTime\"] = pd.to_datetime(df[\"EndTime\"], format=datetime_format)\n",
    "    return df\n",
    "\n",
    "def parse(filepath) -> pd.DataFrame:\n",
    "    df = csv_extract(filepath)\n",
    "    df = csv_parse_time(df)\n",
    "    return df\n",
    "\n",
    "\n",
    "    "
   ]
  },
  {
   "cell_type": "code",
   "execution_count": 7,
   "id": "787480e9",
   "metadata": {},
   "outputs": [],
   "source": [
    "def filter_by_time_diff(df, t_minutes):\n",
    "    \"\"\"\n",
    "    Filters a DataFrame to find rows where the time difference between\n",
    "    'EndTime' and 'StartTime' is greater than or equal to t_minutes.\n",
    "\n",
    "    Args:\n",
    "        df (pd.DataFrame): DataFrame with 'StartTime' and 'EndTime' columns.\n",
    "        t_minutes (int): The minimum time difference in minutes.\n",
    "\n",
    "    Returns:\n",
    "        pd.DataFrame: A DataFrame containing only the rows that meet the\n",
    "                      time difference criteria.\n",
    "    \"\"\"\n",
    "    # Ensure time columns are in datetime format\n",
    "    df['StartTime'] = pd.to_datetime(df['StartTime'])\n",
    "    df['EndTime'] = pd.to_datetime(df['EndTime'])\n",
    "\n",
    "    # Calculate the time difference in minutes\n",
    "    time_diff = (df['EndTime'] - df['StartTime']).dt.total_seconds() / 60\n",
    "\n",
    "    # Filter the DataFrame\n",
    "    return df[time_diff >= t_minutes]"
   ]
  },
  {
   "cell_type": "code",
   "execution_count": 4,
   "id": "1d7660f9",
   "metadata": {},
   "outputs": [
    {
     "name": "stdout",
     "output_type": "stream",
     "text": [
      "            AccID           StartTime             EndTime UnitConsumption\n",
      "0     82865239130 2025-04-24 00:00:00 2025-04-24 01:00:00             0.4\n",
      "1     82865239130 2025-04-24 01:00:00 2025-04-24 02:00:00             0.5\n",
      "2     82865239130 2025-04-24 02:00:00 2025-04-24 03:00:00             0.4\n",
      "3     82865239130 2025-04-24 03:00:00 2025-04-24 04:00:00             0.4\n",
      "4     82865239130 2025-04-24 04:00:00 2025-04-24 05:00:00             0.4\n",
      "...           ...                 ...                 ...             ...\n",
      "2172  82865239130 2025-07-23 12:00:00 2025-07-23 13:00:00             0.1\n",
      "2173  82865239130 2025-07-23 13:00:00 2025-07-23 14:00:00             0.1\n",
      "2174  82865239130 2025-07-23 14:00:00 2025-07-23 15:00:00             0.1\n",
      "2175  82865239130 2025-07-23 15:00:00 2025-07-23 16:00:00             0.1\n",
      "2176  82865239130 2025-07-23 16:00:00 2025-07-23 17:00:00             0.1\n",
      "\n",
      "[2177 rows x 4 columns]\n"
     ]
    }
   ],
   "source": [
    "filename = \"../test_files/consumption_history.csv\"\n",
    "\n",
    "df = parse(filename)\n",
    "print(df)"
   ]
  },
  {
   "cell_type": "code",
   "execution_count": 6,
   "id": "ab93e39c",
   "metadata": {},
   "outputs": [
    {
     "name": "stdout",
     "output_type": "stream",
     "text": [
      "❌ Check failed: One or more rows have a time difference greater than 1 minute.\n",
      "\n",
      "Rows with excessive time difference:\n",
      "            AccID           StartTime             EndTime UnitConsumption\n",
      "0     82865239130 2025-04-24 00:00:00 2025-04-24 01:00:00             0.4\n",
      "1     82865239130 2025-04-24 01:00:00 2025-04-24 02:00:00             0.5\n",
      "2     82865239130 2025-04-24 02:00:00 2025-04-24 03:00:00             0.4\n",
      "3     82865239130 2025-04-24 03:00:00 2025-04-24 04:00:00             0.4\n",
      "4     82865239130 2025-04-24 04:00:00 2025-04-24 05:00:00             0.4\n",
      "...           ...                 ...                 ...             ...\n",
      "2172  82865239130 2025-07-23 12:00:00 2025-07-23 13:00:00             0.1\n",
      "2173  82865239130 2025-07-23 13:00:00 2025-07-23 14:00:00             0.1\n",
      "2174  82865239130 2025-07-23 14:00:00 2025-07-23 15:00:00             0.1\n",
      "2175  82865239130 2025-07-23 15:00:00 2025-07-23 16:00:00             0.1\n",
      "2176  82865239130 2025-07-23 16:00:00 2025-07-23 17:00:00             0.1\n",
      "\n",
      "[2177 rows x 4 columns]\n"
     ]
    },
    {
     "data": {
      "text/plain": [
       "False"
      ]
     },
     "execution_count": 6,
     "metadata": {},
     "output_type": "execute_result"
    }
   ],
   "source": [
    "check_time_difference_le_minute(df)"
   ]
  },
  {
   "cell_type": "code",
   "execution_count": null,
   "id": "b4abe68a",
   "metadata": {},
   "outputs": [],
   "source": []
  }
 ],
 "metadata": {
  "kernelspec": {
   "display_name": "powee-7Vth4opC-py3.12",
   "language": "python",
   "name": "python3"
  },
  "language_info": {
   "codemirror_mode": {
    "name": "ipython",
    "version": 3
   },
   "file_extension": ".py",
   "mimetype": "text/x-python",
   "name": "python",
   "nbconvert_exporter": "python",
   "pygments_lexer": "ipython3",
   "version": "3.12.3"
  }
 },
 "nbformat": 4,
 "nbformat_minor": 5
}
